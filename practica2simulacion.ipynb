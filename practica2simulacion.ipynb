{
  "nbformat": 4,
  "nbformat_minor": 0,
  "metadata": {
    "colab": {
      "provenance": [],
      "authorship_tag": "ABX9TyOPFXGuV/Gn9o0yUXIK109p",
      "include_colab_link": true
    },
    "kernelspec": {
      "name": "python3",
      "display_name": "Python 3"
    },
    "language_info": {
      "name": "python"
    }
  },
  "cells": [
    {
      "cell_type": "markdown",
      "metadata": {
        "id": "view-in-github",
        "colab_type": "text"
      },
      "source": [
        "<a href=\"https://colab.research.google.com/github/monicasofiarestrepo/SistemasOperativos/blob/main/practica2simulacion.ipynb\" target=\"_parent\"><img src=\"https://colab.research.google.com/assets/colab-badge.svg\" alt=\"Open In Colab\"/></a>"
      ]
    },
    {
      "cell_type": "code",
      "execution_count": 25,
      "metadata": {
        "colab": {
          "base_uri": "https://localhost:8080/"
        },
        "id": "FFmoAvMK92EP",
        "outputId": "c14dcabb-c98d-4f6a-f52b-f00fbf1b65cb"
      },
      "outputs": [
        {
          "output_type": "stream",
          "name": "stdout",
          "text": [
            "Ingrese el N: 1\n",
            "ACCURACY\n",
            "1.0\n"
          ]
        }
      ],
      "source": [
        "#integracion de monte Carlo\n",
        "#Estimar el valor de I=∫40(x+(x+(x)1/2)1/2))1/2 con a = 0 y b = 4\n",
        "\n",
        "#usando el método de acierto/falla y calcular un intervalo de confianza para esta estimación.\n",
        "import numpy as np\n",
        "import random\n",
        "import math\n",
        "\n",
        "\n",
        "N = int(input(\"Ingrese el N: \"))\n",
        "a= 0\n",
        "b = 4\n",
        "x= 4\n",
        "g = ((x+(x+(x)**1/2)**1/2))**1/2\n",
        "\n",
        "\n",
        "def evaluarFuncion(x):\n",
        "  funcionEvaluada= ((x+(x+(x)**1/2)**1/2))**1/2\n",
        "  return funcionEvaluada\n",
        "\n",
        "def Aleatorios(a,b):\n",
        "  Ui= np.random.random()\n",
        "  Xi= Ui*b\n",
        "  return Xi\n",
        "\n",
        "aciertos = 0\n",
        "for i in range(N):\n",
        "  xi= Aleatorios(0, 4)\n",
        "  yi= Aleatorios(0,5)\n",
        "  gx= evaluarFuncion(xi)\n",
        "\n",
        "  if yi<=gx:\n",
        "    aciertos+=1\n",
        "\n",
        "Accuracy = aciertos/N\n",
        "print(\"ACCURACY\")\n",
        "print(Accuracy)\n",
        "\n",
        "\n",
        "\n",
        "\n",
        "\n",
        "\n"
      ]
    }
  ]
}